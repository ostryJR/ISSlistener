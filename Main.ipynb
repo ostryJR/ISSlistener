{
 "cells": [
  {
   "cell_type": "code",
   "execution_count": 110,
   "metadata": {},
   "outputs": [],
   "source": [
    "import requests\n",
    "from bs4 import BeautifulSoup as bs\n",
    "import math\n",
    "import time\n",
    "from dateutil import parser as timeparser\n",
    "import datetime as dt\n",
    "\n",
    "import config\n",
    "import functions as fn\n"
   ]
  },
  {
   "cell_type": "code",
   "execution_count": 111,
   "metadata": {},
   "outputs": [],
   "source": [
    "#Get position&time predictions of the ISS\n",
    "#Time is in UTC\n",
    "def getFlyOverData(location, targetDate):\n",
    "    payload = {\n",
    "        \"lang\": \"en\",\n",
    "        \"satellite\": \"ISS\",\n",
    "        \"count\": 10,\n",
    "        \"loc\": \"\",\n",
    "        \"lat\": location[0],#54.8959,\n",
    "        \"latdir\": \"+\",\n",
    "        \"lng\": location[1],#9.7917,\n",
    "        \"longdir\": \"-\",\n",
    "        \"ele\": 0,\n",
    "        \"doPredict\": \"Predict\"\n",
    "    }\n",
    "\n",
    "    #!!! ONLY FOR TESTING TO NOT SEND THOUSANDS OF REQUESTS TO THE SERVER\n",
    "    #data = requests.get(config.PosPredURL, payload)\n",
    "    data = open(\"cachedRequestForFlyOverData.txt\").read()\n",
    "    if False:#data.status_code != 200:\n",
    "        print(\"Error: \" + str(data.status_code))\n",
    "    else:\n",
    "        soup = bs(data)#.text)\n",
    "        elemsRaw = [None, None]\n",
    "        elemsRaw[0] = soup.find_all('tr', {\"bgcolor\": \"white\"})[:math.ceil(payload[\"count\"]/2)]\n",
    "        elemsRaw[1] = soup.find_all('tr', {\"bgcolor\": \"gainsboro\"})[:round(payload[\"count\"]/2)]\n",
    "        \n",
    "        elems = [None for i in range(len(elemsRaw[0]) + len(elemsRaw[1]))]\n",
    "        for idx, ele in enumerate(elemsRaw[0]):\n",
    "            elems[idx*2] = ele.find_all('td')\n",
    "        for idx, ele in enumerate(elemsRaw[1]):\n",
    "            elems[idx*2 +1] = ele.find_all('td')\n",
    "        \n",
    "        finalElems2 = []\n",
    "        for ele in elems:\n",
    "            #print(ele)\n",
    "            el = str(ele).split(\",\")\n",
    "            temp = []\n",
    "            for e in  el:\n",
    "                e = e[2:]\n",
    "                e = e[e.find(\">\")+1:e.find(\"<\")]\n",
    "                temp.append(e)\n",
    "            finalElems2.append(temp)\n",
    "        \n",
    "        finalElems = []\n",
    "        for ele in finalElems2:\n",
    "            dateTransform = timeparser.parse(ele[0])\n",
    "            date = dt.date(dateTransform.year, dateTransform.month, dateTransform.day)\n",
    "            ele[1] = ele[1].split(\":\")\n",
    "            ele[2] = ele[2].split(\":\")\n",
    "            ele[7] = ele[7].split(\":\")\n",
    "            starttime = dt.time(int(ele[1][0]), int(ele[1][1]), int(ele[1][2]))\n",
    "            duration = dt.time(int(ele[2][0]), int(ele[2][1]), int(ele[2][2]))\n",
    "            endtime = dt.time(int(ele[7][0]), int(ele[7][1]), int(ele[7][2]))\n",
    "            frame = fn.FlyoverFrame(date, starttime, duration, endtime)\n",
    "            finalElems.append(frame)\n",
    "        \n",
    "        \n",
    "        # print(\"Date, Starttime, Duration, Endtime\")\n",
    "        # for ele in finalElems:\n",
    "        #     print(ele.date, ele.starttime, ele.duration, ele.endtime)\n",
    "        \n",
    "            \n",
    "        #get only targetDate flyovers\n",
    "        #today = dt.date.today()\n",
    "        targetDayFlyovers = []\n",
    "        for ele in finalElems:\n",
    "            if ele.date == targetDate:\n",
    "                targetDayFlyovers.append(ele)\n",
    "        \n",
    "        # print(f\"Todays flyovers in {location} on {targetDate}:\")\n",
    "        # print(\"Date, Starttime, Duration, Endtime\")\n",
    "        # for ele in todaysFlyovers:\n",
    "        #     print(ele.date, ele.starttime, ele.duration, ele.endtime)\n",
    "        return targetDayFlyovers\n",
    "            \n",
    "        "
   ]
  },
  {
   "cell_type": "code",
   "execution_count": 112,
   "metadata": {},
   "outputs": [
    {
     "ename": "AttributeError",
     "evalue": "module 'functions' has no attribute 'Location'",
     "output_type": "error",
     "traceback": [
      "\u001b[0;31m---------------------------------------------------------------------------\u001b[0m",
      "\u001b[0;31mAttributeError\u001b[0m                            Traceback (most recent call last)",
      "Cell \u001b[0;32mIn[112], line 7\u001b[0m\n\u001b[1;32m      1\u001b[0m locations \u001b[38;5;241m=\u001b[39m [\n\u001b[1;32m      2\u001b[0m     \u001b[38;5;66;03m# fn.Location(44.84175, 0.56681, \"Bordeaux\", \"http://ham.websdrbordeaux.fr:8000/index3.html\"),\u001b[39;00m\n\u001b[1;32m      3\u001b[0m     \u001b[38;5;66;03m# fn.Location(36.98038, 22.44201, \"Sparti\", \"http://sv3gcb.ddns.net:8905/\"),\u001b[39;00m\n\u001b[1;32m      4\u001b[0m     \u001b[38;5;66;03m# fn.Location(45.1875, 25.625, \"Breaza\", \"http://websdr.yo3ggx.ro:8765/\"),\u001b[39;00m\n\u001b[1;32m      5\u001b[0m     \u001b[38;5;66;03m# fn.Location(52.02366, 5.03883, \"IJsselstein\", \"http://websdr.pi1utr.hamnet.nl:8901/\")\u001b[39;00m\n\u001b[1;32m      6\u001b[0m ]\n\u001b[0;32m----> 7\u001b[0m blablabla \u001b[38;5;241m=\u001b[39m \u001b[43mfn\u001b[49m\u001b[38;5;241;43m.\u001b[39;49m\u001b[43mLocation\u001b[49m(\u001b[38;5;241m54.8959\u001b[39m, \u001b[38;5;241m9.7917\u001b[39m, \u001b[38;5;124m\"\u001b[39m\u001b[38;5;124mFlensburg\u001b[39m\u001b[38;5;124m\"\u001b[39m, \u001b[38;5;124m\"\u001b[39m\u001b[38;5;124mhttp://websdr.oe1wkl.at:8901/\u001b[39m\u001b[38;5;124m\"\u001b[39m)\n\u001b[1;32m      9\u001b[0m getFlyOverData([\u001b[38;5;241m54.8959\u001b[39m, \u001b[38;5;241m9.7917\u001b[39m], dt\u001b[38;5;241m.\u001b[39mdate\u001b[38;5;241m.\u001b[39mtoday() \u001b[38;5;241m+\u001b[39m dt\u001b[38;5;241m.\u001b[39mtimedelta(days\u001b[38;5;241m=\u001b[39m\u001b[38;5;241m0\u001b[39m))\n",
      "\u001b[0;31mAttributeError\u001b[0m: module 'functions' has no attribute 'Location'"
     ]
    }
   ],
   "source": [
    "locations = [\n",
    "    # fn.Location(44.84175, 0.56681, \"Bordeaux\", \"http://ham.websdrbordeaux.fr:8000/index3.html\"),\n",
    "    # fn.Location(36.98038, 22.44201, \"Sparti\", \"http://sv3gcb.ddns.net:8905/\"),\n",
    "    # fn.Location(45.1875, 25.625, \"Breaza\", \"http://websdr.yo3ggx.ro:8765/\"),\n",
    "    # fn.Location(52.02366, 5.03883, \"IJsselstein\", \"http://websdr.pi1utr.hamnet.nl:8901/\")\n",
    "]\n",
    "blablabla = fn.Location(54.8959, 9.7917, \"Flensburg\", \"http://websdr.oe1wkl.at:8901/\")\n",
    "\n",
    "getFlyOverData([54.8959, 9.7917], dt.date.today() + dt.timedelta(days=0))"
   ]
  }
 ],
 "metadata": {
  "kernelspec": {
   "display_name": "Python 3",
   "language": "python",
   "name": "python3"
  },
  "language_info": {
   "codemirror_mode": {
    "name": "ipython",
    "version": 3
   },
   "file_extension": ".py",
   "mimetype": "text/x-python",
   "name": "python",
   "nbconvert_exporter": "python",
   "pygments_lexer": "ipython3",
   "version": "3.12.3"
  }
 },
 "nbformat": 4,
 "nbformat_minor": 2
}
