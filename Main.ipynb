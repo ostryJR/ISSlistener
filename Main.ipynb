{
 "cells": [
  {
   "cell_type": "code",
   "execution_count": 121,
   "metadata": {},
   "outputs": [],
   "source": [
    "import requests\n",
    "from bs4 import BeautifulSoup as bs\n",
    "import math\n",
    "\n",
    "import config\n",
    "\n",
    "\n",
    "#!!! ONLY FOR TESTING TO NOT SEND THOUSANDS OF REQUESTS TO THE SERVER\n",
    "import cachedRequestForFlyOverData"
   ]
  },
  {
   "cell_type": "code",
   "execution_count": 137,
   "metadata": {},
   "outputs": [
    {
     "name": "stdout",
     "output_type": "stream",
     "text": [
      "['29 Oct 24', '00:16:26', '00:08:31', '193', '10', '133', '88', '00:24:57']\n",
      "['29 Oct 24', '01:51:27', '00:10:21', '233', '29', '141', '86', '02:01:48']\n",
      "['29 Oct 24', '03:27:39', '00:10:45', '260', '47', '166', '99', '03:38:24']\n",
      "['29 Oct 24', '05:04:08', '00:10:23', '274', '30', '181', '125', '05:14:31']\n",
      "['29 Oct 24', '06:40:57', '00:08:43', '272', '11', '212', '163', '06:49:40']\n",
      "['29 Oct 24', '23:28:18', '00:07:23', '180', '6', '138', '92', '23:35:41']\n",
      "['30 Oct 24', '01:02:43', '00:10:06', '224', '23', '167', '85', '01:12:49']\n",
      "['30 Oct 24', '02:38:43', '00:10:38', '254', '45', '160', '94', '02:49:21']\n",
      "['30 Oct 24', '04:15:10', '00:10:31', '271', '37', '178', '117', '04:25:41']\n",
      "['30 Oct 24', '05:51:49', '00:09:25', '274', '16', '215', '152', '06:01:14']\n",
      "['30 Oct 24', '07:30:07', '00:03:31', '252', '1', '226', '213', '07:33:38']\n",
      "['30 Oct 24', '22:40:30', '00:05:33', '163', '3', '137', '100', '22:46:03']\n",
      "['31 Oct 24', '00:14:01', '00:09:43', '214', '18', '154', '85', '00:23:44']\n",
      "['31 Oct 24', '01:49:45', '00:10:35', '247', '40', '154', '90', '02:00:20']\n",
      "['31 Oct 24', '03:26:08', '00:10:36', '268', '43', '174', '109', '03:36:44']\n"
     ]
    }
   ],
   "source": [
    "#Get position predictions of the ISS\n",
    "payload = {\n",
    "    \"lang\": \"en\",\n",
    "    \"satellite\": \"ISS\",\n",
    "    \"count\": 15,\n",
    "    \"loc\": \"JO44vv\",\n",
    "    \"lat\": 54.8959,\n",
    "    \"latdir\": \"+\",\n",
    "    \"lng\": 9.7917,\n",
    "    \"longdir\": \"-\",\n",
    "    \"ele\": 0,\n",
    "    \"doPredict\": \"Predict\"\n",
    "}\n",
    "\n",
    "\n",
    "\n",
    "#!!! ONLY FOR TESTING TO NOT SEND THOUSANDS OF REQUESTS TO THE SERVER\n",
    "#data = requests.get(config.PosPredURL, payload)\n",
    "data = open(\"cachedRequestForFlyOverData.txt\").read()\n",
    "if False:#data.status_code != 200:\n",
    "    print(\"Error: \" + str(data.status_code))\n",
    "else:\n",
    "    soup = bs(data)#.text)\n",
    "    elemsRaw = [None, None]\n",
    "    elemsRaw[0] = soup.find_all('tr', {\"bgcolor\": \"white\"})[:math.ceil(payload[\"count\"]/2)]\n",
    "    elemsRaw[1] = soup.find_all('tr', {\"bgcolor\": \"gainsboro\"})[:round(payload[\"count\"]/2)]\n",
    "    \n",
    "    elems = [None for i in range(len(elemsRaw[0]) + len(elemsRaw[1]))]\n",
    "    for idx, ele in enumerate(elemsRaw[0]):\n",
    "        elems[idx*2] = ele.find_all('td')\n",
    "    for idx, ele in enumerate(elemsRaw[1]):\n",
    "        elems[idx*2 +1] = ele.find_all('td')\n",
    "    \n",
    "    finalElems = []\n",
    "    for ele in elems:\n",
    "        #print(ele)\n",
    "        el = str(ele).split(\",\")\n",
    "        temp = []\n",
    "        for e in  el:\n",
    "            e = e[2:]\n",
    "            temp.append(e[e.find(\">\")+1:e.find(\"<\")])\n",
    "        finalElems.append(temp)\n",
    "    \n",
    "for ele in finalElems:\n",
    "    print(ele)\n",
    "    \n",
    "    \n",
    "    "
   ]
  }
 ],
 "metadata": {
  "kernelspec": {
   "display_name": "Python 3",
   "language": "python",
   "name": "python3"
  },
  "language_info": {
   "codemirror_mode": {
    "name": "ipython",
    "version": 3
   },
   "file_extension": ".py",
   "mimetype": "text/x-python",
   "name": "python",
   "nbconvert_exporter": "python",
   "pygments_lexer": "ipython3",
   "version": "3.12.3"
  }
 },
 "nbformat": 4,
 "nbformat_minor": 2
}
